{
 "cells": [
  {
   "cell_type": "code",
   "execution_count": 20,
   "id": "7e622789",
   "metadata": {},
   "outputs": [],
   "source": [
    "import pandas as pd\n",
    "import numpy as np\n",
    "import matplotlib.pyplot as plt\n",
    "import seaborn as sns\n",
    "import plotly.express as px\n",
    "import streamlit as st \n",
    "import altair as alt\n",
    "from PIL import Image"
   ]
  },
  {
   "cell_type": "code",
   "execution_count": 21,
   "id": "f32ad7f0",
   "metadata": {},
   "outputs": [
    {
     "data": {
      "text/plain": [
       "True"
      ]
     },
     "execution_count": 21,
     "metadata": {},
     "output_type": "execute_result"
    }
   ],
   "source": [
    "st.header(\"Vehicle Ads Analysis\")\n",
    "st.write(\"The dataset contains information about various vehicles, including their make, model, year, price, and other features.\")  \n",
    "st.checkbox(\"Show DataFrame\", value=True, key=\"show_df\")"
   ]
  },
  {
   "cell_type": "code",
   "execution_count": 22,
   "id": "b64a6225",
   "metadata": {},
   "outputs": [],
   "source": [
    "#Import and read the dataset \n",
    "vechicle_ads = pd.read_csv('vehicles_us.csv', sep=',')"
   ]
  },
  {
   "cell_type": "code",
   "execution_count": null,
   "id": "5024eb82",
   "metadata": {},
   "outputs": [
    {
     "name": "stdout",
     "output_type": "stream",
     "text": [
      "<class 'pandas.core.frame.DataFrame'>\n",
      "RangeIndex: 51525 entries, 0 to 51524\n",
      "Data columns (total 13 columns):\n",
      " #   Column        Non-Null Count  Dtype  \n",
      "---  ------        --------------  -----  \n",
      " 0   price         51525 non-null  float64\n",
      " 1   model_year    47906 non-null  float64\n",
      " 2   model         51525 non-null  object \n",
      " 3   condition     51525 non-null  object \n",
      " 4   cylinders     46265 non-null  float64\n",
      " 5   fuel          51525 non-null  object \n",
      " 6   odometer      43633 non-null  float64\n",
      " 7   transmission  51525 non-null  object \n",
      " 8   type          51525 non-null  object \n",
      " 9   paint_color   42258 non-null  object \n",
      " 10  is_4wd        25572 non-null  float64\n",
      " 11  date_posted   51525 non-null  object \n",
      " 12  days_listed   51525 non-null  int64  \n",
      "dtypes: float64(5), int64(1), object(7)\n",
      "memory usage: 5.1+ MB\n"
     ]
    },
    {
     "data": {
      "application/vnd.microsoft.datawrangler.viewer.v0+json": {
       "columns": [
        {
         "name": "index",
         "rawType": "int64",
         "type": "integer"
        },
        {
         "name": "price",
         "rawType": "float64",
         "type": "float"
        },
        {
         "name": "model_year",
         "rawType": "float64",
         "type": "float"
        },
        {
         "name": "model",
         "rawType": "object",
         "type": "string"
        },
        {
         "name": "condition",
         "rawType": "object",
         "type": "string"
        },
        {
         "name": "cylinders",
         "rawType": "float64",
         "type": "float"
        },
        {
         "name": "fuel",
         "rawType": "object",
         "type": "string"
        },
        {
         "name": "odometer",
         "rawType": "float64",
         "type": "float"
        },
        {
         "name": "transmission",
         "rawType": "object",
         "type": "string"
        },
        {
         "name": "type",
         "rawType": "object",
         "type": "string"
        },
        {
         "name": "paint_color",
         "rawType": "object",
         "type": "unknown"
        },
        {
         "name": "is_4wd",
         "rawType": "float64",
         "type": "float"
        },
        {
         "name": "date_posted",
         "rawType": "object",
         "type": "string"
        },
        {
         "name": "days_listed",
         "rawType": "int64",
         "type": "integer"
        }
       ],
       "conversionMethod": "pd.DataFrame",
       "ref": "4ffae502-e6f8-4061-839c-5ff51dd35c83",
       "rows": [
        [
         "0",
         "9400.0",
         "2011.0",
         "bmw x5",
         "good",
         "6.0",
         "gas",
         "145000.0",
         "automatic",
         "SUV",
         null,
         "1.0",
         "2018-06-23",
         "19"
        ],
        [
         "1",
         "25500.0",
         null,
         "ford f-150",
         "good",
         "6.0",
         "gas",
         "88705.0",
         "automatic",
         "pickup",
         "white",
         "1.0",
         "2018-10-19",
         "50"
        ],
        [
         "2",
         "5500.0",
         "2013.0",
         "hyundai sonata",
         "like new",
         "4.0",
         "gas",
         "110000.0",
         "automatic",
         "sedan",
         "red",
         null,
         "2019-02-07",
         "79"
        ],
        [
         "3",
         "1500.0",
         "2003.0",
         "ford f-150",
         "fair",
         "8.0",
         "gas",
         null,
         "automatic",
         "pickup",
         null,
         null,
         "2019-03-22",
         "9"
        ],
        [
         "4",
         "14900.0",
         "2017.0",
         "chrysler 200",
         "excellent",
         "4.0",
         "gas",
         "80903.0",
         "automatic",
         "sedan",
         "black",
         null,
         "2019-04-02",
         "28"
        ]
       ],
       "shape": {
        "columns": 13,
        "rows": 5
       }
      },
      "text/html": [
       "<div>\n",
       "<style scoped>\n",
       "    .dataframe tbody tr th:only-of-type {\n",
       "        vertical-align: middle;\n",
       "    }\n",
       "\n",
       "    .dataframe tbody tr th {\n",
       "        vertical-align: top;\n",
       "    }\n",
       "\n",
       "    .dataframe thead th {\n",
       "        text-align: right;\n",
       "    }\n",
       "</style>\n",
       "<table border=\"1\" class=\"dataframe\">\n",
       "  <thead>\n",
       "    <tr style=\"text-align: right;\">\n",
       "      <th></th>\n",
       "      <th>price</th>\n",
       "      <th>model_year</th>\n",
       "      <th>model</th>\n",
       "      <th>condition</th>\n",
       "      <th>cylinders</th>\n",
       "      <th>fuel</th>\n",
       "      <th>odometer</th>\n",
       "      <th>transmission</th>\n",
       "      <th>type</th>\n",
       "      <th>paint_color</th>\n",
       "      <th>is_4wd</th>\n",
       "      <th>date_posted</th>\n",
       "      <th>days_listed</th>\n",
       "    </tr>\n",
       "  </thead>\n",
       "  <tbody>\n",
       "    <tr>\n",
       "      <th>0</th>\n",
       "      <td>9400.0</td>\n",
       "      <td>2011.0</td>\n",
       "      <td>bmw x5</td>\n",
       "      <td>good</td>\n",
       "      <td>6.0</td>\n",
       "      <td>gas</td>\n",
       "      <td>145000.0</td>\n",
       "      <td>automatic</td>\n",
       "      <td>SUV</td>\n",
       "      <td>NaN</td>\n",
       "      <td>1.0</td>\n",
       "      <td>2018-06-23</td>\n",
       "      <td>19</td>\n",
       "    </tr>\n",
       "    <tr>\n",
       "      <th>1</th>\n",
       "      <td>25500.0</td>\n",
       "      <td>NaN</td>\n",
       "      <td>ford f-150</td>\n",
       "      <td>good</td>\n",
       "      <td>6.0</td>\n",
       "      <td>gas</td>\n",
       "      <td>88705.0</td>\n",
       "      <td>automatic</td>\n",
       "      <td>pickup</td>\n",
       "      <td>white</td>\n",
       "      <td>1.0</td>\n",
       "      <td>2018-10-19</td>\n",
       "      <td>50</td>\n",
       "    </tr>\n",
       "    <tr>\n",
       "      <th>2</th>\n",
       "      <td>5500.0</td>\n",
       "      <td>2013.0</td>\n",
       "      <td>hyundai sonata</td>\n",
       "      <td>like new</td>\n",
       "      <td>4.0</td>\n",
       "      <td>gas</td>\n",
       "      <td>110000.0</td>\n",
       "      <td>automatic</td>\n",
       "      <td>sedan</td>\n",
       "      <td>red</td>\n",
       "      <td>NaN</td>\n",
       "      <td>2019-02-07</td>\n",
       "      <td>79</td>\n",
       "    </tr>\n",
       "    <tr>\n",
       "      <th>3</th>\n",
       "      <td>1500.0</td>\n",
       "      <td>2003.0</td>\n",
       "      <td>ford f-150</td>\n",
       "      <td>fair</td>\n",
       "      <td>8.0</td>\n",
       "      <td>gas</td>\n",
       "      <td>NaN</td>\n",
       "      <td>automatic</td>\n",
       "      <td>pickup</td>\n",
       "      <td>NaN</td>\n",
       "      <td>NaN</td>\n",
       "      <td>2019-03-22</td>\n",
       "      <td>9</td>\n",
       "    </tr>\n",
       "    <tr>\n",
       "      <th>4</th>\n",
       "      <td>14900.0</td>\n",
       "      <td>2017.0</td>\n",
       "      <td>chrysler 200</td>\n",
       "      <td>excellent</td>\n",
       "      <td>4.0</td>\n",
       "      <td>gas</td>\n",
       "      <td>80903.0</td>\n",
       "      <td>automatic</td>\n",
       "      <td>sedan</td>\n",
       "      <td>black</td>\n",
       "      <td>NaN</td>\n",
       "      <td>2019-04-02</td>\n",
       "      <td>28</td>\n",
       "    </tr>\n",
       "  </tbody>\n",
       "</table>\n",
       "</div>"
      ],
      "text/plain": [
       "     price  model_year           model  condition  cylinders fuel  odometer  \\\n",
       "0   9400.0      2011.0          bmw x5       good        6.0  gas  145000.0   \n",
       "1  25500.0         NaN      ford f-150       good        6.0  gas   88705.0   \n",
       "2   5500.0      2013.0  hyundai sonata   like new        4.0  gas  110000.0   \n",
       "3   1500.0      2003.0      ford f-150       fair        8.0  gas       NaN   \n",
       "4  14900.0      2017.0    chrysler 200  excellent        4.0  gas   80903.0   \n",
       "\n",
       "  transmission    type paint_color  is_4wd date_posted  days_listed  \n",
       "0    automatic     SUV         NaN     1.0  2018-06-23           19  \n",
       "1    automatic  pickup       white     1.0  2018-10-19           50  \n",
       "2    automatic   sedan         red     NaN  2019-02-07           79  \n",
       "3    automatic  pickup         NaN     NaN  2019-03-22            9  \n",
       "4    automatic   sedan       black     NaN  2019-04-02           28  "
      ]
     },
     "execution_count": 27,
     "metadata": {},
     "output_type": "execute_result"
    }
   ],
   "source": [
    "#Print some information about the dataset\n",
    "vechicle_ads.info()\n",
    "vechicle_ads.describe()\n",
    "vechicle_ads.head()"
   ]
  },
  {
   "cell_type": "code",
   "execution_count": 59,
   "id": "dc9a466a",
   "metadata": {},
   "outputs": [
    {
     "name": "stdout",
     "output_type": "stream",
     "text": [
      "Number of duplicates: 0\n",
      "Number of missing values: price               0\n",
      "model_year       3619\n",
      "model               0\n",
      "condition           0\n",
      "cylinders           0\n",
      "fuel                0\n",
      "odometer         7892\n",
      "transmission        0\n",
      "type                0\n",
      "paint_color      9267\n",
      "is_4wd          25953\n",
      "date_posted         0\n",
      "days_listed         0\n",
      "dtype: int64\n",
      "Total count of missing values: 46731\n"
     ]
    }
   ],
   "source": [
    "#Check for missing values and duplicates\n",
    "duplicates = vechicle_ads.duplicated().sum()\n",
    "missing_values = vechicle_ads.isnull().sum()\n",
    "count_missing = vechicle_ads.isnull().sum().sum()\n",
    "print(f\"Number of duplicates: {duplicates}\")\n",
    "print(f\"Number of missing values: {missing_values}\")\n",
    "print(f\"Total count of missing values: {count_missing}\")"
   ]
  },
  {
   "cell_type": "code",
   "execution_count": 47,
   "id": "62f5636c",
   "metadata": {},
   "outputs": [],
   "source": [
    "#Remove duplicates\n",
    "vechicle_ads.drop_duplicates(subset=None, keep='first', inplace=True)\n",
    "#Remove null values\n",
    "vechicle_ads.dropna(subset=['price'], inplace=True)\n",
    "#Remove outliers\n",
    "vechicle_ads = vechicle_ads[vechicle_ads['price'] < 1000000]\n",
    "\n",
    "#Convert columns to appropriate data types\n",
    "vechicle_ads['model_year'] = pd.to_numeric(vechicle_ads['model_year'], errors='coerce').astype('Int64')\n",
    "vechicle_ads['price'] = vechicle_ads['price'].astype(float)\n",
    "vechicle_ads['model'] = vechicle_ads['model'].astype(str)\n",
    "vechicle_ads['condition'] = vechicle_ads['condition'].astype(str)\n",
    "vechicle_ads['cylinders'] = vechicle_ads['cylinders'].astype(str)"
   ]
  },
  {
   "cell_type": "code",
   "execution_count": 49,
   "id": "f2d8d05f",
   "metadata": {},
   "outputs": [
    {
     "data": {
      "image/png": "[encoded data removed]",
      "text/plain": [
       "<Figure size 1000x600 with 1 Axes>"
      ]
     },
     "metadata": {},
     "output_type": "display_data"
    }
   ],
   "source": [
    "# Comparing the model year and price with a scatter plot\n",
    "st.subheader(\"Scatter Plot of Model Year vs Price\")\n",
    "plt.figure(figsize=(10,6))\n",
    "sns.scatterplot(x='model_year', y='price', data=vechicle_ads, color='blue')\n",
    "plt.title('Price vs Model Year')\n",
    "plt.xlabel('Model Year')\n",
    "plt.ylabel('Price')\n",
    "plt.grid(True)\n",
    "plt.show()\n"
   ]
  },
  {
   "cell_type": "code",
   "execution_count": 54,
   "id": "bbbab56c",
   "metadata": {},
   "outputs": [
    {
     "data": {
      "image/png": "[encoded data removed]",
      "text/plain": [
       "<Figure size 1000x600 with 1 Axes>"
      ]
     },
     "metadata": {},
     "output_type": "display_data"
    }
   ],
   "source": [
    "#create a histogram of the price\n",
    "plt.figure(figsize=(10,6))\n",
    "plt.hist(vechicle_ads['price'], bins=30, color='blue', alpha=0.7)\n",
    "plt.title('Distribution of Vehicle Prices')\n",
    "plt.xlabel('Price')\n",
    "plt.ylabel('Frequency')\n",
    "plt.grid(True)\n",
    "plt.show()\n"
   ]
  }
 ],
 "metadata": {
  "kernelspec": {
   "display_name": "base",
   "language": "python",
   "name": "python3"
  },
  "language_info": {
   "codemirror_mode": {
    "name": "ipython",
    "version": 3
   },
   "file_extension": ".py",
   "mimetype": "text/x-python",
   "name": "python",
   "nbconvert_exporter": "python",
   "pygments_lexer": "ipython3",
   "version": "3.11.9"
  }
 },
 "nbformat": 4,
 "nbformat_minor": 5
}
